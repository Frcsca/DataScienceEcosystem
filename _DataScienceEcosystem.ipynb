{
 "cells": [
  {
   "cell_type": "markdown",
   "id": "5fc0d6d9-f27e-4a57-8603-eeb95dafb5b4",
   "metadata": {},
   "source": [
    "# Data Science Tools and Ecosystem "
   ]
  },
  {
   "cell_type": "markdown",
   "id": "d2d77a06-7e15-4e3c-a368-7d68911364e3",
   "metadata": {},
   "source": [
    "In this notebook, Data Science Tools and Ecosystem are summarized."
   ]
  },
  {
   "cell_type": "markdown",
   "id": "cf12ab8f-7a9e-4775-8a11-0b22bab50092",
   "metadata": {},
   "source": [
    "Some of the popular languages that Data Scientists use are: \n",
    "1. PYTHON\n",
    "2. R\n",
    "3. SQL"
   ]
  },
  {
   "cell_type": "markdown",
   "id": "f760367d-245b-4969-a366-9b5ce3e71537",
   "metadata": {},
   "source": [
    "Some of the commonly used libraries used by Data Scientists include:\n",
    "1. Pandas\n",
    "2. scikit learn\n",
    "3. scipy"
   ]
  },
  {
   "cell_type": "markdown",
   "id": "47c71827-dd75-469f-8cde-27aa12da5a0a",
   "metadata": {},
   "source": [
    "|Data Science Tools|\n",
    "|:--------:|\n",
    "| Rstudio   |\n",
    "|Apache Spark  |\n",
    "|  Tensorflow  | "
   ]
  },
  {
   "cell_type": "markdown",
   "id": "80618ba6-bea2-448b-b0b5-268bf5380a70",
   "metadata": {},
   "source": [
    "### Below are a few examples of evaluating arithmetic expressions in Python"
   ]
  },
  {
   "cell_type": "code",
   "execution_count": 1,
   "id": "43fecdf6-93e4-47dc-9bd0-bf5e46a8d910",
   "metadata": {
    "tags": []
   },
   "outputs": [
    {
     "data": {
      "text/plain": [
       "17"
      ]
     },
     "execution_count": 1,
     "metadata": {},
     "output_type": "execute_result"
    }
   ],
   "source": [
    "#This a simple arithmetic expression to mutiply then add integers\n",
    "(3*4)+5"
   ]
  },
  {
   "cell_type": "code",
   "execution_count": 2,
   "id": "7ee31b66-7526-4b92-8f92-36e71b7753d6",
   "metadata": {
    "tags": []
   },
   "outputs": [
    {
     "data": {
      "text/plain": [
       "3"
      ]
     },
     "execution_count": 2,
     "metadata": {},
     "output_type": "execute_result"
    }
   ],
   "source": [
    "# This will convert 200 minutes to hours by diving by 60\n",
    "hours = 200//60\n",
    "hours"
   ]
  },
  {
   "cell_type": "markdown",
   "id": "e02f14db-bbe0-4d07-8de8-f121aeeacda8",
   "metadata": {},
   "source": [
    "Objective:\n",
    "* Java\n",
    "* SQL\n",
    "* Python\n",
    "* C++\n",
    "* Scala"
   ]
  },
  {
   "cell_type": "markdown",
   "id": "9aaa5cb2-c882-419f-877f-245ac03ca984",
   "metadata": {},
   "source": [
    "## Author:\n",
    "Zixuan Yi"
   ]
  },
  {
   "cell_type": "code",
   "execution_count": null,
   "id": "765ae407-0853-40ab-8b05-1991782e5b7a",
   "metadata": {},
   "outputs": [],
   "source": []
  }
 ],
 "metadata": {
  "kernelspec": {
   "display_name": "Python",
   "language": "python",
   "name": "conda-env-python-py"
  },
  "language_info": {
   "codemirror_mode": {
    "name": "ipython",
    "version": 3
   },
   "file_extension": ".py",
   "mimetype": "text/x-python",
   "name": "python",
   "nbconvert_exporter": "python",
   "pygments_lexer": "ipython3",
   "version": "3.7.12"
  }
 },
 "nbformat": 4,
 "nbformat_minor": 5
}
